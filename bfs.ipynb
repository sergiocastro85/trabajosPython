{
  "cells": [
    {
      "cell_type": "markdown",
      "metadata": {
        "id": "view-in-github",
        "colab_type": "text"
      },
      "source": [
        "<a href=\"https://colab.research.google.com/github/sergiocastro85/trabajosPython/blob/main/bfs.ipynb\" target=\"_parent\"><img src=\"https://colab.research.google.com/assets/colab-badge.svg\" alt=\"Open In Colab\"/></a>"
      ]
    },
    {
      "cell_type": "markdown",
      "source": [
        "instalar libreria treelib"
      ],
      "metadata": {
        "id": "SLpRe3BudqsP"
      }
    },
    {
      "cell_type": "code",
      "source": [
        "!pip install treelib"
      ],
      "metadata": {
        "colab": {
          "base_uri": "https://localhost:8080/"
        },
        "id": "PhZzBGK1byTk",
        "outputId": "aa211868-271a-422e-b385-6a00c489558a"
      },
      "execution_count": 52,
      "outputs": [
        {
          "output_type": "stream",
          "name": "stdout",
          "text": [
            "Requirement already satisfied: treelib in /usr/local/lib/python3.7/dist-packages (1.6.1)\n",
            "Requirement already satisfied: future in /usr/local/lib/python3.7/dist-packages (from treelib) (0.16.0)\n"
          ]
        }
      ]
    },
    {
      "cell_type": "code",
      "source": [
        "#importar \n",
        "from treelib import Tree"
      ],
      "metadata": {
        "id": "9Qz-vJyUdbOx"
      },
      "execution_count": 76,
      "outputs": []
    },
    {
      "cell_type": "code",
      "source": [
        "import numpy as np"
      ],
      "metadata": {
        "id": "lt6wAeBcSY6y"
      },
      "execution_count": 2,
      "outputs": []
    },
    {
      "cell_type": "code",
      "source": [
        "N=5\n",
        "\n",
        "datos=[1,2,3,4,5,6,0,0,0,7,8,9,10,11,12,13,0,0,14,0,0,0,0,0,0]\n",
        "\n",
        "matriz=np.array(datos).reshape(N,N)\n",
        "\n",
        "\n",
        "def expandirnodo(tablero, posactual):\n",
        "  L=[]\n",
        "  filactual=np.where(tablero==posactual)[0][0] #.where fila columna\n",
        "  columnactual=np.where(tablero==posactual)[1][0]#\n",
        "  \n",
        "  if filactual!=tablero.shape[0]-1: ##tamaño restamos 1 \n",
        "\n",
        "    pos=tablero[filactual+1][columnactual] ##me puedo mover a la derecha\n",
        "    if pos!=0:\n",
        "      L.append(pos)\n",
        "  \n",
        "  if filactual !=0:\n",
        "    pos=tablero[filactual-1][columnactual] ##me puedo mover a la izquierda\n",
        "    if pos!=0:\n",
        "      L.append(pos)\n",
        "\n",
        "  if columnactual!=tablero.shape[1]-1:\n",
        "    pos=tablero[filactual][columnactual+1] # me puedo mover abajo\n",
        "    if pos!=0:\n",
        "      L.append(pos)\n",
        "  \n",
        "  if columnactual!=0:\n",
        "    pos=tablero[filactual][columnactual-1] #me puedo mover arriba arriba\n",
        "    if pos!=0:\n",
        "      L.append(pos)\n",
        "  \n",
        "  return L\n",
        "\n",
        "\n",
        "\n",
        "#pruebassssssssssssssssssss\n",
        "resultado=expandirnodo(matriz,14)\n",
        "\n",
        "#expandirnodo(matriz,14)\n",
        "#print(matriz[0][0])\n",
        "print(matriz)\n",
        "print(resultado)\n",
        "\n",
        "#print(np.where(matriz==11)[0][0])\n",
        "\n",
        "\n",
        "#l.append(matriz[0:1])\n",
        "\n",
        "\n",
        "#print(l)"
      ],
      "metadata": {
        "colab": {
          "base_uri": "https://localhost:8080/"
        },
        "id": "oz0Wv2qRVy70",
        "outputId": "851333b4-54a4-4fed-9417-1a45c871aca9"
      },
      "execution_count": 5,
      "outputs": [
        {
          "output_type": "stream",
          "name": "stdout",
          "text": [
            "[[ 1  2  3  4  5]\n",
            " [ 6  0  0  0  7]\n",
            " [ 8  9 10 11 12]\n",
            " [13  0  0 14  0]\n",
            " [ 0  0  0  0  0]]\n",
            "[11]\n"
          ]
        }
      ]
    },
    {
      "cell_type": "code",
      "source": [
        "##FUNCION EXPANDIR NODO\n",
        "N=5\n",
        "\n",
        "datos=[1,2,3,4,5,6,0,0,0,7,8,9,10,11,12,13,0,0,14,0,0,0,0,0,0]\n",
        "\n",
        "matriz=np.array(datos).reshape(N,N)\n",
        "\n",
        "\n",
        "def expandirnodo(tablero, posactual):\n",
        "  L=[]\n",
        "  filactual=np.where(tablero==posactual)[0][0] #.where fila columna\n",
        "  columnactual=np.where(tablero==posactual)[1][0]#\n",
        "  \n",
        "  if filactual!=tablero.shape[0]-1: ##tamaño restamos 1 \n",
        "\n",
        "    pos=tablero[filactual+1][columnactual] ##me puedo mover a la derecha\n",
        "    if pos!=0:\n",
        "      L.append(pos)\n",
        "  \n",
        "  if filactual !=0:\n",
        "    pos=tablero[filactual-1][columnactual] ##me puedo mover a la izquierda\n",
        "    if pos!=0:\n",
        "      L.append(pos)\n",
        "\n",
        "  if columnactual!=tablero.shape[1]-1:\n",
        "    pos=tablero[filactual][columnactual+1] # me puedo mover abajo\n",
        "    if pos!=0:\n",
        "      L.append(pos)\n",
        "  \n",
        "  if columnactual!=0:\n",
        "    pos=tablero[filactual][columnactual-1] #me puedo mover arriba arriba\n",
        "    if pos!=0:\n",
        "      L.append(pos)\n",
        "  \n",
        "  return L\n",
        "\n",
        "##FUNCION BFS\n",
        "def bfs (tablero, posinicial, posfinal):\n",
        "  Q=[]\n",
        "  T=Tree()\n",
        "  V=[]\n",
        "  Q.append(posinicial)\n",
        "  V.append(posinicial)\n",
        "  T.create_node(tag=posinicial,identifier=posinicial,data=posinicial)\n",
        "  while len(Q)!=0:\n",
        "    pos_actual=Q.pop(0)\n",
        "    hijos=expandirnodo(tablero,pos_actual)\n",
        "    for hijo in hijos:\n",
        "      if hijo not in V:\n",
        "        T.create_node(tag=hijo,identifier=hijo,parent=pos_actual,data=hijo)\n",
        "        V.append(hijo)\n",
        "        Q.append(hijo)\n",
        "        if hijo==posfinal:\n",
        "          T.show()\n",
        "          # for key in T.nodes:\n",
        "          #   if T.is_ancestor(T.nodes[key].identifier,hijo):\n",
        "          #     print(T.nodes[key].data)\n",
        "          # print(posfinal)\n",
        "          sol = list(T.rsearch(posfinal))\n",
        "          sol.reverse()\n",
        "          print(sol)\n",
        "\n",
        "      \n",
        "  else:\n",
        "    print(\"no Hay Solución\")\n",
        "  \n",
        "\n",
        "  \n"
      ],
      "metadata": {
        "id": "wIHRn_keocNy"
      },
      "execution_count": 77,
      "outputs": []
    },
    {
      "cell_type": "code",
      "source": [
        "bfs(matriz,14,1)"
      ],
      "metadata": {
        "colab": {
          "base_uri": "https://localhost:8080/"
        },
        "id": "6jwWqzlIIQqQ",
        "outputId": "db625425-bcfc-4d25-f965-01b3c130670c"
      },
      "execution_count": 79,
      "outputs": [
        {
          "output_type": "stream",
          "name": "stdout",
          "text": [
            "14\n",
            "└── 11\n",
            "    ├── 10\n",
            "    │   └── 9\n",
            "    │       └── 8\n",
            "    │           ├── 6\n",
            "    │           │   └── 1\n",
            "    │           └── 13\n",
            "    └── 12\n",
            "        └── 7\n",
            "            └── 5\n",
            "                └── 4\n",
            "                    └── 3\n",
            "\n",
            "[14, 11, 10, 9, 8, 6, 1]\n",
            "no Hay Solución\n"
          ]
        }
      ]
    }
  ],
  "metadata": {
    "colab": {
      "collapsed_sections": [],
      "name": "Te damos la bienvenida a Colaboratory",
      "toc_visible": true,
      "provenance": [],
      "include_colab_link": true
    },
    "kernelspec": {
      "display_name": "Python 3",
      "name": "python3"
    }
  },
  "nbformat": 4,
  "nbformat_minor": 0
}