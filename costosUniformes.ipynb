{
  "cells": [
    {
      "cell_type": "markdown",
      "metadata": {
        "id": "view-in-github",
        "colab_type": "text"
      },
      "source": [
        "<a href=\"https://colab.research.google.com/github/sergiocastro85/trabajosPython/blob/master/costosUniformes.ipynb\" target=\"_parent\"><img src=\"https://colab.research.google.com/assets/colab-badge.svg\" alt=\"Open In Colab\"/></a>"
      ]
    },
    {
      "cell_type": "markdown",
      "source": [
        "instalar libreria treelib"
      ],
      "metadata": {
        "id": "SLpRe3BudqsP"
      }
    },
    {
      "cell_type": "code",
      "source": [
        "!pip install treelib"
      ],
      "metadata": {
        "colab": {
          "base_uri": "https://localhost:8080/"
        },
        "id": "PhZzBGK1byTk",
        "outputId": "9f0e29f7-9d26-4e9c-a33e-5ac799516084"
      },
      "execution_count": 2,
      "outputs": [
        {
          "output_type": "stream",
          "name": "stdout",
          "text": [
            "Collecting treelib\n",
            "  Downloading treelib-1.6.1.tar.gz (24 kB)\n",
            "Requirement already satisfied: future in /usr/local/lib/python3.7/dist-packages (from treelib) (0.16.0)\n",
            "Building wheels for collected packages: treelib\n",
            "  Building wheel for treelib (setup.py) ... \u001b[?25l\u001b[?25hdone\n",
            "  Created wheel for treelib: filename=treelib-1.6.1-py3-none-any.whl size=18385 sha256=99790e612c7548dab9708fd221aeba51bf3bd5f72ee877b8ac183ebfda38d57d\n",
            "  Stored in directory: /root/.cache/pip/wheels/89/be/94/2c6d949ce599d1443426d83ba4dc93cd35c0f4638260930a53\n",
            "Successfully built treelib\n",
            "Installing collected packages: treelib\n",
            "Successfully installed treelib-1.6.1\n"
          ]
        }
      ]
    },
    {
      "cell_type": "code",
      "source": [
        "#importar \n",
        "from treelib import Tree"
      ],
      "metadata": {
        "id": "9Qz-vJyUdbOx"
      },
      "execution_count": 3,
      "outputs": []
    },
    {
      "cell_type": "code",
      "source": [
        "#Instanciar un arbol\n",
        "g=Tree()"
      ],
      "metadata": {
        "id": "f1X7VLJie0TV"
      },
      "execution_count": null,
      "outputs": []
    },
    {
      "cell_type": "code",
      "source": [
        "grafo={'U':{'V':2,'X':1,'W':5},\n",
        "       'X':{'U':1,'V':2,'W':3,'Y':1},\n",
        "       'V':{'U':2,'X':2,'W':3},\n",
        "       'Y':{'X':1,'W':1,'Z':2},\n",
        "       'W':{'V':3,'X':3,'Y':1,'Z':5},\n",
        "       'Z':{'Y':2,'W':5}}"
      ],
      "metadata": {
        "id": "MvEjcp4LAfuX"
      },
      "execution_count": null,
      "outputs": []
    },
    {
      "cell_type": "code",
      "source": [
        "pq=[]\n",
        "visitados=[]\n",
        "id=1\n",
        "\n",
        "g=Tree()\n",
        "\n",
        "nodo=g.create_node(tag='U',data=['U',0],identifier=id)\n",
        "\n",
        "pq.append(nodo)\n",
        "\n",
        "while len(pq) !=0:\n",
        "  pq.sort(key=lambda X:X.data[1])\n",
        "  nodo_actual=pq.pop(0)\n",
        "  costo_actual=nodo_actual.data[1]\n",
        "  if nodo_actual.tag=='Z':\n",
        "    g.show()\n",
        "  visitados.append(nodo_actual.tag)\n",
        "  hijos=list(grafo[nodo_actual.tag].items())\n",
        "  for hijo in hijos:\n",
        "    id=id+1\n",
        "    nodo_hijo=g.create_node(tag=hijo[0],data=list(hijo),identifier=id,parent=nodo_actual.identifier)\n",
        "    costo_hijo=hijo[1]\n",
        "    costo_acumulado=costo_actual+costo_hijo\n",
        "    if hijo[0]not in visitados:\n",
        "      lista=[nodo.tag for nodo in pq]\n",
        "      if hijo[0] in lista:\n",
        "        index=lista.index(hijo[0])\n",
        "        if costo_acumulado < pq[index].data[1]:\n",
        "          pq[index].data[1]=costo_hijo\n",
        "      else:\n",
        "        pq.append(nodo_hijo)\n"
      ],
      "metadata": {
        "colab": {
          "base_uri": "https://localhost:8080/"
        },
        "id": "1f6PZtM9CRup",
        "outputId": "d911b89e-0130-4cb2-d564-72bf187a6dce"
      },
      "execution_count": null,
      "outputs": [
        {
          "output_type": "stream",
          "name": "stdout",
          "text": [
            "U\n",
            "├── V\n",
            "│   ├── U\n",
            "│   ├── W\n",
            "│   └── X\n",
            "├── W\n",
            "│   ├── V\n",
            "│   ├── X\n",
            "│   ├── Y\n",
            "│   └── Z\n",
            "└── X\n",
            "    ├── U\n",
            "    ├── V\n",
            "    ├── W\n",
            "    └── Y\n",
            "        ├── W\n",
            "        ├── X\n",
            "        └── Z\n",
            "\n"
          ]
        }
      ]
    },
    {
      "cell_type": "code",
      "source": [
        "d=g.nodes\n",
        "for clave in d:\n",
        "  if g.is_ancestor (d[clave].identifier, nodo_actual.identifier):\n",
        "    print (d[clave].data)\n",
        "print (nodo_actual.data)\n"
      ],
      "metadata": {
        "colab": {
          "base_uri": "https://localhost:8080/"
        },
        "id": "wRvggAXFN1yl",
        "outputId": "02e0a18e-2b3f-4dbf-8660-3f739d86cec9"
      },
      "execution_count": null,
      "outputs": [
        {
          "output_type": "stream",
          "name": "stdout",
          "text": [
            "['U', 0]\n",
            "['X', 1]\n",
            "['Y', 1]\n",
            "['Z', 2]\n"
          ]
        }
      ]
    },
    {
      "cell_type": "code",
      "source": [
        "import numpy as np"
      ],
      "metadata": {
        "id": "lt6wAeBcSY6y"
      },
      "execution_count": 5,
      "outputs": []
    }
  ],
  "metadata": {
    "colab": {
      "collapsed_sections": [],
      "name": "Te damos la bienvenida a Colaboratory",
      "toc_visible": true,
      "provenance": [],
      "include_colab_link": true
    },
    "kernelspec": {
      "display_name": "Python 3",
      "name": "python3"
    }
  },
  "nbformat": 4,
  "nbformat_minor": 0
}