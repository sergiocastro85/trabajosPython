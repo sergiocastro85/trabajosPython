{
  "nbformat": 4,
  "nbformat_minor": 0,
  "metadata": {
    "colab": {
      "name": "Busqueda_Informada.ipynb",
      "provenance": [],
      "include_colab_link": true
    },
    "kernelspec": {
      "name": "python3",
      "display_name": "Python 3"
    },
    "language_info": {
      "name": "python"
    }
  },
  "cells": [
    {
      "cell_type": "markdown",
      "metadata": {
        "id": "view-in-github",
        "colab_type": "text"
      },
      "source": [
        "<a href=\"https://colab.research.google.com/github/sergiocastro85/trabajosPython/blob/master/Estrella.ipynb\" target=\"_parent\"><img src=\"https://colab.research.google.com/assets/colab-badge.svg\" alt=\"Open In Colab\"/></a>"
      ]
    },
    {
      "cell_type": "code",
      "execution_count": null,
      "metadata": {
        "id": "6KWu6M0fhLJj"
      },
      "outputs": [],
      "source": [
        "#algoritmo A*\n",
        "#g(n) es el costo acumulado desde la raiz \n",
        "\n"
      ]
    },
    {
      "cell_type": "code",
      "source": [
        "!pip install treelib"
      ],
      "metadata": {
        "colab": {
          "base_uri": "https://localhost:8080/"
        },
        "id": "7KWNVDyumrBL",
        "outputId": "711e7398-0c1b-4e22-8a30-208306ada442"
      },
      "execution_count": 1,
      "outputs": [
        {
          "output_type": "stream",
          "name": "stdout",
          "text": [
            "Collecting treelib\n",
            "  Downloading treelib-1.6.1.tar.gz (24 kB)\n",
            "Requirement already satisfied: future in /usr/local/lib/python3.7/dist-packages (from treelib) (0.16.0)\n",
            "Building wheels for collected packages: treelib\n",
            "  Building wheel for treelib (setup.py) ... \u001b[?25l\u001b[?25hdone\n",
            "  Created wheel for treelib: filename=treelib-1.6.1-py3-none-any.whl size=18385 sha256=046d0fb7d3629b6656ae8b73dce54cdc1368327be0d229023c36c8d40dc237d7\n",
            "  Stored in directory: /root/.cache/pip/wheels/89/be/94/2c6d949ce599d1443426d83ba4dc93cd35c0f4638260930a53\n",
            "Successfully built treelib\n",
            "Installing collected packages: treelib\n",
            "Successfully installed treelib-1.6.1\n"
          ]
        }
      ]
    },
    {
      "cell_type": "code",
      "source": [
        "grafo={\n",
        "    'u':{'v':155,'x':125,'w':600},\n",
        "    'x':{'u':125,'v':346,'w':413,'y':182},\n",
        "    'v':{'u':155,'x':346,'w':325},\n",
        "    'w':{'v':325,'x':413,'y':211,'z':15},\n",
        "    'y':{'x':182,'w':211,'z':321},\n",
        "    'z':{'w':15,'y':321}\n",
        "}\n",
        "\n",
        "distancias ={\n",
        "    'u':600,\n",
        "    'x':456,\n",
        "    'v':300,\n",
        "    'w':10,\n",
        "    'y':312,\n",
        "    'z':0\n",
        "}"
      ],
      "metadata": {
        "id": "iEm1DubRmumL"
      },
      "execution_count": 2,
      "outputs": []
    },
    {
      "cell_type": "code",
      "source": [
        "def g(n):\n",
        "  s=0\n",
        "  global m\n",
        "  d = m.nodes\n",
        "  for id in d:\n",
        "    nodo=d[id]\n",
        "    if m.is_ancestor(nodo.identifier,n.identifier):\n",
        "      s=s+nodo.data[1]\n",
        "  return s"
      ],
      "metadata": {
        "id": "2ubspcy0rLEU"
      },
      "execution_count": 3,
      "outputs": []
    },
    {
      "cell_type": "code",
      "source": [
        "def h(n):\n",
        " global distancias\n",
        " d=distancias[n.data[0]]\n",
        " return d"
      ],
      "metadata": {
        "id": "vHCwiQo9r8vn"
      },
      "execution_count": 8,
      "outputs": []
    },
    {
      "cell_type": "code",
      "source": [
        "from treelib import Tree\n",
        "\n",
        "#nodos frontera \n",
        "pq=[]\n",
        "visitados=[]\n",
        "id = 1\n",
        "m = Tree()\n",
        "\n",
        "def g(n):\n",
        "  s=0\n",
        "  global m\n",
        "  d=m.nodes\n",
        "  for id in d:\n",
        "    nodo=d[id]\n",
        "    if m.is_ancestor(nodo.identifier,n.identifier):\n",
        "      s=s+nodo.data[1]\n",
        "  return s\n",
        "\n",
        "def h(n):\n",
        "  global distancias\n",
        "  d=distancias[n.data[0]]\n",
        "  return d\n",
        "\n",
        "nodo = m.create_node(tag=\"U\",data=[\"U\",0], identifier=id)\n",
        "pq.append(nodo)\n",
        "while len(pq) !=0:\n",
        "  for e in pq:\n",
        "    F=g(e)+h(e)\n",
        "    e.data[1]=F\n",
        "  pq.sort(key=lambda X:X.data[1])\n",
        "  actual=pq.pop(0)\n",
        "\n",
        "  if actual.data[0]==\"Z\":\n",
        "    m.show()\n",
        "    break\n",
        "     \n",
        "  visitados.append(actual.tag)\n",
        "  hijos=list(grafo[actual.tag].items())\n",
        "  for hijo in hijos:   \n",
        "    \n",
        "    hijo=list(hijo)\n",
        "    if hijo[0] not in visitados:\n",
        "      id=id+1\n",
        "      nodo=m.create_node(tag=hijo[0],data=hijo,identifier=id,parent=actual.identifier)\n",
        "\n",
        "      l=[k.tag for k in pq]      \n",
        "      if hijo[0] in l:\n",
        "        indice=l.index(hijo[0])\n",
        "        if hijo[1] < pq[indice].data[1]:\n",
        "          pq[indice].data[1]=hijo[1]\n",
        "      else:\n",
        "        pq.append(nodo) \n"
      ],
      "metadata": {
        "id": "RJweqM9UpXfX",
        "colab": {
          "base_uri": "https://localhost:8080/",
          "height": 356
        },
        "outputId": "2b606a9a-20eb-4dd2-a8bf-86536fa908b9"
      },
      "execution_count": 9,
      "outputs": [
        {
          "output_type": "error",
          "ename": "KeyError",
          "evalue": "ignored",
          "traceback": [
            "\u001b[0;31m---------------------------------------------------------------------------\u001b[0m",
            "\u001b[0;31mKeyError\u001b[0m                                  Traceback (most recent call last)",
            "\u001b[0;32m<ipython-input-9-e7295db0cba7>\u001b[0m in \u001b[0;36m<module>\u001b[0;34m()\u001b[0m\n\u001b[1;32m     26\u001b[0m \u001b[0;32mwhile\u001b[0m \u001b[0mlen\u001b[0m\u001b[0;34m(\u001b[0m\u001b[0mpq\u001b[0m\u001b[0;34m)\u001b[0m \u001b[0;34m!=\u001b[0m\u001b[0;36m0\u001b[0m\u001b[0;34m:\u001b[0m\u001b[0;34m\u001b[0m\u001b[0;34m\u001b[0m\u001b[0m\n\u001b[1;32m     27\u001b[0m   \u001b[0;32mfor\u001b[0m \u001b[0me\u001b[0m \u001b[0;32min\u001b[0m \u001b[0mpq\u001b[0m\u001b[0;34m:\u001b[0m\u001b[0;34m\u001b[0m\u001b[0;34m\u001b[0m\u001b[0m\n\u001b[0;32m---> 28\u001b[0;31m     \u001b[0mF\u001b[0m\u001b[0;34m=\u001b[0m\u001b[0mg\u001b[0m\u001b[0;34m(\u001b[0m\u001b[0me\u001b[0m\u001b[0;34m)\u001b[0m\u001b[0;34m+\u001b[0m\u001b[0mh\u001b[0m\u001b[0;34m(\u001b[0m\u001b[0me\u001b[0m\u001b[0;34m)\u001b[0m\u001b[0;34m\u001b[0m\u001b[0;34m\u001b[0m\u001b[0m\n\u001b[0m\u001b[1;32m     29\u001b[0m     \u001b[0me\u001b[0m\u001b[0;34m.\u001b[0m\u001b[0mdata\u001b[0m\u001b[0;34m[\u001b[0m\u001b[0;36m1\u001b[0m\u001b[0;34m]\u001b[0m\u001b[0;34m=\u001b[0m\u001b[0mF\u001b[0m\u001b[0;34m\u001b[0m\u001b[0;34m\u001b[0m\u001b[0m\n\u001b[1;32m     30\u001b[0m   \u001b[0mpq\u001b[0m\u001b[0;34m.\u001b[0m\u001b[0msort\u001b[0m\u001b[0;34m(\u001b[0m\u001b[0mkey\u001b[0m\u001b[0;34m=\u001b[0m\u001b[0;32mlambda\u001b[0m \u001b[0mX\u001b[0m\u001b[0;34m:\u001b[0m\u001b[0mX\u001b[0m\u001b[0;34m.\u001b[0m\u001b[0mdata\u001b[0m\u001b[0;34m[\u001b[0m\u001b[0;36m1\u001b[0m\u001b[0;34m]\u001b[0m\u001b[0;34m)\u001b[0m\u001b[0;34m\u001b[0m\u001b[0;34m\u001b[0m\u001b[0m\n",
            "\u001b[0;32m<ipython-input-9-e7295db0cba7>\u001b[0m in \u001b[0;36mh\u001b[0;34m(n)\u001b[0m\n\u001b[1;32m     19\u001b[0m \u001b[0;32mdef\u001b[0m \u001b[0mh\u001b[0m\u001b[0;34m(\u001b[0m\u001b[0mn\u001b[0m\u001b[0;34m)\u001b[0m\u001b[0;34m:\u001b[0m\u001b[0;34m\u001b[0m\u001b[0;34m\u001b[0m\u001b[0m\n\u001b[1;32m     20\u001b[0m   \u001b[0;32mglobal\u001b[0m \u001b[0mdistancias\u001b[0m\u001b[0;34m\u001b[0m\u001b[0;34m\u001b[0m\u001b[0m\n\u001b[0;32m---> 21\u001b[0;31m   \u001b[0md\u001b[0m\u001b[0;34m=\u001b[0m\u001b[0mdistancias\u001b[0m\u001b[0;34m[\u001b[0m\u001b[0mn\u001b[0m\u001b[0;34m.\u001b[0m\u001b[0mdata\u001b[0m\u001b[0;34m[\u001b[0m\u001b[0;36m0\u001b[0m\u001b[0;34m]\u001b[0m\u001b[0;34m]\u001b[0m\u001b[0;34m\u001b[0m\u001b[0;34m\u001b[0m\u001b[0m\n\u001b[0m\u001b[1;32m     22\u001b[0m   \u001b[0;32mreturn\u001b[0m \u001b[0md\u001b[0m\u001b[0;34m\u001b[0m\u001b[0;34m\u001b[0m\u001b[0m\n\u001b[1;32m     23\u001b[0m \u001b[0;34m\u001b[0m\u001b[0m\n",
            "\u001b[0;31mKeyError\u001b[0m: 'U'"
          ]
        }
      ]
    }
  ]
}