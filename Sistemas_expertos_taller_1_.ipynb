{
  "nbformat": 4,
  "nbformat_minor": 0,
  "metadata": {
    "colab": {
      "name": "Sistemas expertos - taller #1 .ipynb",
      "provenance": [],
      "collapsed_sections": [],
      "include_colab_link": true
    },
    "kernelspec": {
      "name": "python3",
      "display_name": "Python 3"
    },
    "language_info": {
      "name": "python"
    }
  },
  "cells": [
    {
      "cell_type": "markdown",
      "metadata": {
        "id": "view-in-github",
        "colab_type": "text"
      },
      "source": [
        "<a href=\"https://colab.research.google.com/github/sergiocastro85/trabajosPython/blob/master/Sistemas_expertos_taller_1_.ipynb\" target=\"_parent\"><img src=\"https://colab.research.google.com/assets/colab-badge.svg\" alt=\"Open In Colab\"/></a>"
      ]
    },
    {
      "cell_type": "code",
      "source": [
        "! pip install treelib\n",
        "from treelib import Tree\n",
        "import numpy as np"
      ],
      "metadata": {
        "id": "u-Z5rsIzElaT",
        "colab": {
          "base_uri": "https://localhost:8080/"
        },
        "outputId": "1bac183e-4289-48da-9e0e-25e23480d8ec"
      },
      "execution_count": 1,
      "outputs": [
        {
          "output_type": "stream",
          "name": "stdout",
          "text": [
            "Collecting treelib\n",
            "  Downloading treelib-1.6.1.tar.gz (24 kB)\n",
            "Requirement already satisfied: future in /usr/local/lib/python3.7/dist-packages (from treelib) (0.16.0)\n",
            "Building wheels for collected packages: treelib\n",
            "  Building wheel for treelib (setup.py) ... \u001b[?25l\u001b[?25hdone\n",
            "  Created wheel for treelib: filename=treelib-1.6.1-py3-none-any.whl size=18385 sha256=93ade1b4114bf0732167b77b9f651a820f31fff53584c933b1038fa5fce60ce4\n",
            "  Stored in directory: /root/.cache/pip/wheels/89/be/94/2c6d949ce599d1443426d83ba4dc93cd35c0f4638260930a53\n",
            "Successfully built treelib\n",
            "Installing collected packages: treelib\n",
            "Successfully installed treelib-1.6.1\n"
          ]
        }
      ]
    },
    {
      "cell_type": "code",
      "source": [
        "# PUNTO 1 \n",
        "\n",
        "# N=5\n",
        "# datos=[1,2,3,4,5,6,0,0,0,7,8,9,10,11,12,13,0,0,14,0,0,0,0,0,0]\n",
        "# matriz=np.array(datos).reshape(N,N)\n",
        "\n",
        "tablero = np.matrix(\n",
        "[[1,2,3,4,5],\n",
        "[6,0,0,0,10],\n",
        "[11,0,13,0,15],\n",
        "[16,17,18,19,20],\n",
        "[21,0,23,24,25]])\n",
        "\n",
        "tablero=np.array(tablero)\n",
        "\n",
        "def expandirnodo(tablero, posactual):\n",
        "  L=[]\n",
        "  filactual=np.where(tablero==posactual)[0][0] #.where fila columna\n",
        "  columnactual=np.where(tablero==posactual)[1][0]#\n",
        "  \n",
        "  if filactual!=tablero.shape[0]-1: ##tamaño restamos 1 \n",
        "\n",
        "    pos=tablero[filactual+1][columnactual] ##me puedo mover a la derecha\n",
        "    if pos!=0:\n",
        "      L.append(pos)\n",
        "  \n",
        "  if filactual !=0:\n",
        "    pos=tablero[filactual-1][columnactual] ##me puedo mover a la izquierda\n",
        "    if pos!=0:\n",
        "      L.append(pos)\n",
        "\n",
        "  if columnactual!=tablero.shape[1]-1:\n",
        "    pos=tablero[filactual][columnactual+1] # me puedo mover abajo\n",
        "    if pos!=0:\n",
        "      L.append(pos)\n",
        "  \n",
        "  if columnactual!=0:\n",
        "    pos=tablero[filactual][columnactual-1] #me puedo mover arriba arriba\n",
        "    if pos!=0:\n",
        "      L.append(pos)\n",
        "  \n",
        "  return L\n",
        "\n",
        "##FUNCION BFS\n",
        "def bfs (tablero, posinicial, posfinal):\n",
        "  Q=[]\n",
        "  T=Tree()\n",
        "  V=[]\n",
        "  Q.append(posinicial)\n",
        "  V.append(posinicial)\n",
        "  T.create_node(tag=posinicial,identifier=posinicial,data=posinicial)\n",
        "  while len(Q)!=0:\n",
        "    pos_actual=Q.pop(0)\n",
        "    hijos=expandirnodo(tablero,pos_actual)\n",
        "    for hijo in hijos:\n",
        "      if hijo not in V:\n",
        "        T.create_node(tag=hijo,identifier=hijo,parent=pos_actual,data=hijo)\n",
        "        V.append(hijo)\n",
        "        Q.append(hijo)\n",
        "        if hijo==posfinal:\n",
        "          T.show()\n",
        "          # for key in T.nodes:\n",
        "          #   if T.is_ancestor(T.nodes[key].identifier,hijo):\n",
        "          #     print(T.nodes[key].data)\n",
        "          # print(posfinal)\n",
        "          sol = list(T.rsearch(posfinal))\n",
        "          sol.reverse()\n",
        "          print(sol)\n",
        "\n",
        "      \n",
        "  else:\n",
        "    # d = T.nodes\n",
        "    # print(d)\n",
        "    # for i in d:\n",
        "    #   print(d[i])\n",
        "    print(\"no Hay Solución\")\n",
        "\n",
        "\n",
        "bfs(tablero,21,1)"
      ],
      "metadata": {
        "colab": {
          "base_uri": "https://localhost:8080/"
        },
        "id": "e5QPZGNDfSod",
        "outputId": "598f943c-8221-411b-bb6d-d1811124ddf4"
      },
      "execution_count": 6,
      "outputs": [
        {
          "output_type": "stream",
          "name": "stdout",
          "text": [
            "21\n",
            "└── 16\n",
            "    ├── 11\n",
            "    │   └── 6\n",
            "    │       └── 1\n",
            "    └── 17\n",
            "        └── 18\n",
            "\n",
            "[21, 16, 11, 6, 1]\n",
            "no Hay Solución\n"
          ]
        }
      ]
    },
    {
      "cell_type": "code",
      "source": [
        "# PUNTO 2\n",
        "\n",
        "\n",
        "def expandirnodo(estado_actual):\n",
        "\n",
        "  hijo1 = estado_actual.copy()\n",
        "  hijo2 = estado_actual.copy()\n",
        "  hijo3 = estado_actual.copy()\n",
        "\n",
        "  # trunca el primero con el segundo\n",
        "  aux = hijo1[0]\n",
        "  hijo1[0] = hijo1[1]\n",
        "  hijo1[1] = aux\n",
        "\n",
        "  # trunca el segundo con el tercero\n",
        "  aux = hijo2[1]\n",
        "  hijo2[1] = hijo2[2]\n",
        "  hijo2[2] = aux\n",
        "\n",
        "  # trunca el tercero con el cuarto\n",
        "  aux = hijo3[2]\n",
        "  hijo3[2] = hijo3[3]\n",
        "  hijo3[3] = aux\n",
        "\n",
        "  return hijo1, hijo2, hijo3\n",
        "\n",
        "\n",
        "\n",
        "t = Tree()\n",
        "s = []\n",
        "v = []\n",
        "\n",
        "estado_inicial = [2,3,1,4]\n",
        "estado_final = [1,2,3,4]\n",
        "\n",
        "s.append(estado_inicial)\n",
        "\n",
        "def dfs(estado_inicial, estado_final):\n",
        "  \n",
        "  id_parent = None\n",
        "  id = 1\n",
        "  idh = 0\n",
        "  # cont = 1\n",
        "\n",
        "\n",
        "  while len(s)!= 0:\n",
        "\n",
        "    estado_actual = s.pop()\n",
        "    if estado_actual not in v:\n",
        "      t.create_node(estado_actual, id, id_parent, estado_actual)\n",
        "      v.append(estado_actual)\n",
        "      if estado_final == estado_actual:\n",
        "        print(\"\\nGrafo\")\n",
        "        t.show()\n",
        "        d = t.nodes\n",
        "\n",
        "        print(\"\\nSolucion\")\n",
        "        for key in d:\n",
        "          if t.is_ancestor(d[key].identifier, id):\n",
        "            print(\"->\",d[key].data)\n",
        "        print(\"->\",estado_actual)\n",
        "        break\n",
        "\n",
        "      else:\n",
        "\n",
        "        hijos = expandirnodo(estado_actual)\n",
        "        for hijo in hijos:\n",
        "          idh = id + 1 + idh\n",
        "          if hijo not in s and hijo not in v:\n",
        "            t.create_node(hijo, idh, id, hijo)\n",
        "            s.append(hijo)\n",
        "          id_parent = id\n",
        "          \n",
        "    id+=idh\n",
        "    # cont+=1\n",
        "\n",
        "  else:\n",
        "    print(\"No hay solucion\")\n",
        "\n",
        "\n",
        "\n",
        "dfs(estado_inicial, estado_final)\n",
        "\n",
        "# dfs([2,1,4,3], [1,2,3,4])\n",
        "\n",
        "\n",
        "\n"
      ],
      "metadata": {
        "colab": {
          "base_uri": "https://localhost:8080/"
        },
        "id": "Uobq3puy-dM9",
        "outputId": "defc089f-954d-4bd7-f46b-86498f451fe0"
      },
      "execution_count": 7,
      "outputs": [
        {
          "output_type": "stream",
          "name": "stdout",
          "text": [
            "\n",
            "Grafo\n",
            "[2, 3, 1, 4]\n",
            "├── [2, 1, 3, 4]\n",
            "├── [2, 3, 4, 1]\n",
            "├── [2, 3, 4, 1]\n",
            "│   ├── [2, 4, 3, 1]\n",
            "│   ├── [2, 4, 3, 1]\n",
            "│   │   ├── [2, 4, 1, 3]\n",
            "│   │   ├── [2, 4, 1, 3]\n",
            "│   │   │   ├── [2, 1, 4, 3]\n",
            "│   │   │   ├── [2, 1, 4, 3]\n",
            "│   │   │   │   ├── [1, 2, 4, 3]\n",
            "│   │   │   │   └── [1, 2, 4, 3]\n",
            "│   │   │   │       ├── [1, 2, 3, 4]\n",
            "│   │   │   │       ├── [1, 2, 3, 4]\n",
            "│   │   │   │       └── [1, 4, 2, 3]\n",
            "│   │   │   └── [4, 2, 1, 3]\n",
            "│   │   └── [4, 2, 3, 1]\n",
            "│   └── [3, 2, 4, 1]\n",
            "└── [3, 2, 1, 4]\n",
            "\n",
            "\n",
            "Solucion\n",
            "-> [2, 3, 1, 4]\n",
            "-> [2, 3, 4, 1]\n",
            "-> [2, 4, 3, 1]\n",
            "-> [2, 4, 1, 3]\n",
            "-> [2, 1, 4, 3]\n",
            "-> [1, 2, 4, 3]\n",
            "-> [1, 2, 3, 4]\n"
          ]
        }
      ]
    },
    {
      "cell_type": "code",
      "source": [
        ""
      ],
      "metadata": {
        "id": "U_9PuXsSEjnd"
      },
      "execution_count": null,
      "outputs": []
    },
    {
      "cell_type": "code",
      "source": [
        "# def test():\n",
        "#   id = 1\n",
        "#   while id <= 24:\n",
        "#     print(\"y\")\n",
        "#     id+=1\n",
        "#   else:\n",
        "#     print(\"N\")\n",
        "\n",
        "# test()"
      ],
      "metadata": {
        "id": "WnfcZEYy_CR9"
      },
      "execution_count": null,
      "outputs": []
    },
    {
      "cell_type": "code",
      "source": [
        "# x,y = 0,0\n",
        "# while x==y:\n",
        "#   x = random.randint(0,3)\n",
        "#   y = random.randint(0,3)\n",
        "#   print(x)\n",
        "#   print(y)"
      ],
      "metadata": {
        "id": "_8eRISym_Chl"
      },
      "execution_count": null,
      "outputs": []
    },
    {
      "cell_type": "code",
      "source": [
        "\n",
        "# visitados = []\n",
        "\n",
        "# def generarNumeros():\n",
        "#     vec = [random.randint(0,3),random.randint(0,3),random.randint(0,3),random.randint(0,3)]\n",
        "#     return vec\n",
        "\n",
        "# def prueba():\n",
        "#   visitados.append([1,2,3,4])\n",
        "#   cont = 0\n",
        "#   while cont<4:\n",
        "#     cont+=1\n",
        "#     hijo = generarNumeros()\n",
        "#     visitados.append(vec)\n",
        "\n",
        "# prueba()\n",
        "# print(visitados)"
      ],
      "metadata": {
        "id": "Ls3CDu8HPy8g"
      },
      "execution_count": null,
      "outputs": []
    },
    {
      "cell_type": "code",
      "source": [
        "# ind = []\n",
        "\n",
        "# for index, value in enumerate(v):\n",
        "\n",
        "#   if value == estado_final:\n",
        "#     ind.append(index)\n",
        "\n",
        "# print(ind)\n",
        "# print(v[11])\n",
        "# print(v[17])"
      ],
      "metadata": {
        "id": "sTHMh36DYeEJ"
      },
      "execution_count": null,
      "outputs": []
    },
    {
      "cell_type": "code",
      "source": [
        "# vec = [[1,2],[3,4],(5,6)]\n",
        "\n",
        "# print(vec.pop())"
      ],
      "metadata": {
        "id": "7bOQ0N0veD9I"
      },
      "execution_count": null,
      "outputs": []
    },
    {
      "cell_type": "code",
      "source": [
        "vec = str([1,2,3,4])\n"
      ],
      "metadata": {
        "colab": {
          "base_uri": "https://localhost:8080/"
        },
        "id": "wyhYf5nhc7zk",
        "outputId": "53a503e5-b821-42a6-a128-872eb84f1c33"
      },
      "execution_count": null,
      "outputs": [
        {
          "output_type": "stream",
          "name": "stdout",
          "text": [
            "<class 'str'>\n",
            "1\n"
          ]
        }
      ]
    }
  ]
}